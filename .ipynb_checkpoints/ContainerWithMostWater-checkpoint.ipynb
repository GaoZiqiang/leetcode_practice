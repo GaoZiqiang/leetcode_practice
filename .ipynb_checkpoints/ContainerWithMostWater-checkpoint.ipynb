{
 "cells": [
  {
   "cell_type": "markdown",
   "id": "f7c6b019",
   "metadata": {},
   "source": [
    "## leetcode T11:盛最多水的容器\n",
    "### 方法一：暴力解法"
   ]
  },
  {
   "cell_type": "code",
   "execution_count": null,
   "id": "c0593bad",
   "metadata": {},
   "outputs": [],
   "source": [
    "def func(nums):\n",
    "    max_area = 0\n",
    "    for i in nums:\n",
    "        for j in nums[i:]:# 从i+1往后开始遍历\n",
    "            max_area = max(max_area,min(i,j)*(nums.index(j) - nums.index(i)))\n",
    "    return max_area"
   ]
  },
  {
   "cell_type": "code",
   "execution_count": 8,
   "id": "fe522a8a",
   "metadata": {},
   "outputs": [
    {
     "data": {
      "text/plain": [
       "49"
      ]
     },
     "execution_count": 8,
     "metadata": {},
     "output_type": "execute_result"
    }
   ],
   "source": [
    "nums = [1,8,6,2,5,4,8,3,7]\n",
    "func(nums)"
   ]
  },
  {
   "cell_type": "markdown",
   "id": "d48ad55c",
   "metadata": {},
   "source": [
    "### 复杂度分析\n",
    "- 时间复杂度：O(n^2) 两层for循环\n",
    "- 空间复杂度：O(1)"
   ]
  },
  {
   "cell_type": "markdown",
   "id": "bd357dda",
   "metadata": {},
   "source": [
    "### 方法二：双指针法\n",
    "- 算法流程： \n",
    "设置双指针 ii,jj 分别位于容器壁两端，根据规则移动指针（后续说明），并且更新面积最大值 res，直到 i == j 时返回 res。"
   ]
  },
  {
   "cell_type": "code",
   "execution_count": null,
   "id": "49adeff4",
   "metadata": {},
   "outputs": [],
   "source": [
    "def func2(nums):\n",
    "    lens = len(nums)\n",
    "    \n",
    "    max_area = 0\n",
    "    l = 0# 左指针\n",
    "    r = lens - 1# 右指针\n",
    "    while(l < r):\n",
    "        max_area = max(max_area,min(nums[l],nums[r])*(r - l))\n",
    "        if (nums[l] < nums[r]):# 移动较矮的边，直到 i == j 时返回max_area\n",
    "            l += 1# 移动左指针\n",
    "        else:\n",
    "            r -= 1# 移动右指针\n",
    "            \n",
    "    return max_area"
   ]
  },
  {
   "cell_type": "code",
   "execution_count": 17,
   "id": "1072ee91",
   "metadata": {},
   "outputs": [
    {
     "data": {
      "text/plain": [
       "49"
      ]
     },
     "execution_count": 17,
     "metadata": {},
     "output_type": "execute_result"
    }
   ],
   "source": [
    "nums = [1,8,6,2,5,4,8,3,7]\n",
    "func2(nums)"
   ]
  },
  {
   "cell_type": "markdown",
   "id": "d1824380",
   "metadata": {},
   "source": [
    "### 复杂度分析\n",
    "- 时间复杂度：O(n)\n",
    "- 空间复杂度：O(1)"
   ]
  },
  {
   "cell_type": "code",
   "execution_count": null,
   "id": "e565b2d6",
   "metadata": {},
   "outputs": [],
   "source": []
  }
 ],
 "metadata": {
  "kernelspec": {
   "display_name": "Python 3",
   "language": "python",
   "name": "python3"
  },
  "language_info": {
   "codemirror_mode": {
    "name": "ipython",
    "version": 3
   },
   "file_extension": ".py",
   "mimetype": "text/x-python",
   "name": "python",
   "nbconvert_exporter": "python",
   "pygments_lexer": "ipython3",
   "version": "3.6.11"
  }
 },
 "nbformat": 4,
 "nbformat_minor": 5
}
