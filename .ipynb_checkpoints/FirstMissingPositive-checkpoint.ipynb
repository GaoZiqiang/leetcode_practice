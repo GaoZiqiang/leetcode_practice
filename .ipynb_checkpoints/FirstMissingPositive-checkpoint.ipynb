{
 "cells": [
  {
   "cell_type": "markdown",
   "id": "029016d2",
   "metadata": {},
   "source": [
    "## 方法一：双遍历法\n",
    "\n",
    "复杂度分析：\n",
    "- 时间复杂度 O(n^2)\n",
    "- 空间复杂度 O(n)"
   ]
  },
  {
   "cell_type": "code",
   "execution_count": 31,
   "id": "af1bab8a",
   "metadata": {
    "scrolled": true
   },
   "outputs": [],
   "source": [
    "def func(nums):\n",
    "    length = len(nums)\n",
    "    result = 0\n",
    "    nums = sorted(nums)# 排序 无序变有序 排序的时间复杂度为O(n^2)\n",
    "    print(nums)\n",
    "    # 两层遍历 时间复杂度O(n^2)\n",
    "    for i in range((length+1)):\n",
    "        if i > 0:\n",
    "            if i not in nums:# 这也是一次遍历 python的遍历方便之处\n",
    "                result = i\n",
    "                return result"
   ]
  },
  {
   "cell_type": "code",
   "execution_count": null,
   "id": "3eed4e96",
   "metadata": {},
   "outputs": [],
   "source": [
    "def func2(nums):\n",
    "    n = len(nums)\n",
    "    \n",
    "    # 如果数组中没有1，则返回1即可\n",
    "    if 1 not in nums:\n",
    "        return 1\n",
    "    \n",
    "    # 将小于0和大于n的数置换/赋值为1\n",
    "    for i in range(n):\n",
    "        if nums[i] <= 0 or nums[i] > n:\n",
    "            nums[i] = 1\n",
    "            \n",
    "    # 进行取负置换\n",
    "    for i in range(n):\n",
    "        a = abs(nums[i]) - 1# 索引\n",
    "        nums[a] = -abs(nums[a])\n",
    "        \n",
    "    # 找到第一个大于0的数，即为缺失的第一个正数\n",
    "    for i in range(n):\n",
    "        if nums[i] > 0:\n",
    "            return i + 1\n",
    "        \n",
    "    return n + 1"
   ]
  }
 ],
 "metadata": {
  "kernelspec": {
   "display_name": "Python 3",
   "language": "python",
   "name": "python3"
  },
  "language_info": {
   "codemirror_mode": {
    "name": "ipython",
    "version": 3
   },
   "file_extension": ".py",
   "mimetype": "text/x-python",
   "name": "python",
   "nbconvert_exporter": "python",
   "pygments_lexer": "ipython3",
   "version": "3.6.11"
  }
 },
 "nbformat": 4,
 "nbformat_minor": 5
}
