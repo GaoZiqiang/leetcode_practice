{
 "cells": [
  {
   "cell_type": "code",
   "execution_count": 8,
   "id": "cd8a1814",
   "metadata": {},
   "outputs": [],
   "source": [
    "from typing import List\n",
    "import copy"
   ]
  },
  {
   "cell_type": "code",
   "execution_count": 9,
   "id": "36f8f349",
   "metadata": {
    "scrolled": true
   },
   "outputs": [
    {
     "name": "stdout",
     "output_type": "stream",
     "text": [
      "Path: [1, 2, 3]\n",
      "Path: [1, 3, 2]\n",
      "Path: [2, 1, 3]\n",
      "Path: [2, 3, 1]\n",
      "Path: [3, 1, 2]\n",
      "Path: [3, 2, 1]\n",
      "[[1, 2, 3], [1, 3, 2], [2, 1, 3], [2, 3, 1], [3, 1, 2], [3, 2, 1]]\n"
     ]
    }
   ],
   "source": [
    "class Solution:\n",
    "    def permute(self,nums:List[int])->List[List[int]]:\n",
    "        # results = []\n",
    "        def dfs(nums,size,depth,path,used,res):\n",
    "            if depth == size:\n",
    "                res.append(copy.copy(path))# 这里有一个坑\n",
    "                print(\"Path:\",path)\n",
    "                #results.append(path)\n",
    "                return res\n",
    "            for i in range(size):\n",
    "                if not used[i]:\n",
    "                    used[i] = True\n",
    "                    path.append(nums[i])\n",
    "                    \n",
    "                    dfs(nums,size,depth+1,path,used,res)\n",
    "                    \n",
    "                    used[i] = False\n",
    "                    path.pop()\n",
    "                    \n",
    "        size = len(nums)\n",
    "        if (len(nums)) == 0:\n",
    "            return []\n",
    "        \n",
    "        used = [False for _ in range(size)]\n",
    "        res = []\n",
    "        dfs(nums,size,0,[],used,res)\n",
    "        \n",
    "        return res\n",
    "    \n",
    "if __name__ == \"__main__\":\n",
    "    nums = [1,2,3]\n",
    "    solution = Solution()\n",
    "    res = solution.permute(nums)\n",
    "    print(res)"
   ]
  },
  {
   "cell_type": "code",
   "execution_count": null,
   "id": "5f44f769",
   "metadata": {},
   "outputs": [],
   "source": []
  }
 ],
 "metadata": {
  "kernelspec": {
   "display_name": "Python 3",
   "language": "python",
   "name": "python3"
  },
  "language_info": {
   "codemirror_mode": {
    "name": "ipython",
    "version": 3
   },
   "file_extension": ".py",
   "mimetype": "text/x-python",
   "name": "python",
   "nbconvert_exporter": "python",
   "pygments_lexer": "ipython3",
   "version": "3.6.11"
  }
 },
 "nbformat": 4,
 "nbformat_minor": 5
}
