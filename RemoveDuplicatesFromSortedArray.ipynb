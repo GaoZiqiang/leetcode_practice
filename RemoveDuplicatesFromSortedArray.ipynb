{
 "cells": [
  {
   "cell_type": "markdown",
   "id": "32c0d521",
   "metadata": {},
   "source": [
    "## leetcode T26:Remove Duplicates from Sorted Array\n",
    "链接：https://leetcode-cn.com/problems/remove-duplicates-from-sorted-array/"
   ]
  },
  {
   "cell_type": "markdown",
   "id": "d9b86632",
   "metadata": {},
   "source": [
    "### 方法一：暴力解法\n",
    "使用额外数组，存放不重复元素\n",
    "\n",
    "复杂度分析：\n",
    "- 时间复杂度 O(n)\n",
    "- 空间复杂度 O(n) 为什么不是O(1)?"
   ]
  },
  {
   "cell_type": "code",
   "execution_count": 22,
   "id": "778c3149",
   "metadata": {},
   "outputs": [
    {
     "data": {
      "text/plain": [
       "[1, 2, 3, 5, 6, 7]"
      ]
     },
     "execution_count": 22,
     "metadata": {},
     "output_type": "execute_result"
    }
   ],
   "source": [
    "def func(nums):# nums为有序数组\n",
    "    nums = sorted(nums)# 使其有序\n",
    "    lens = len(nums)\n",
    "    new_nums = []# \n",
    "    new_nums.append(nums[0])\n",
    "    for i in range(1,lens):\n",
    "        if nums[i] == nums[i-1]:# 若相邻元素重复，跳过，进入下一循环\n",
    "            continue\n",
    "        else:\n",
    "            new_nums.append(nums[i])# 相邻元素不重复，加入到new_nums\n",
    "            \n",
    "    return new_nums"
   ]
  },
  {
   "cell_type": "markdown",
   "id": "af592661",
   "metadata": {},
   "source": [
    "### 方法二：双指针\n",
    "- 关键字：原地修改\n",
    "- 模式识别：观测位置和可覆盖位置\n",
    "\n",
    "\n",
    "\n",
    "\n",
    "- 关键点：快指针j和慢指针i\n",
    "j为快指针，用来扫描；\n",
    "\n",
    "i为慢指针，用来存放答案位置（不重复元素）\n",
    "\n",
    "if nums[j] != nums[i-1]: nums[i] = nums[j]\n",
    "慢指针i前进一步\n",
    "\n",
    "复杂度分析：\n",
    "- 时间复杂度 O(n)\n",
    "- 空间复杂度 O(1)\n"
   ]
  },
  {
   "cell_type": "code",
   "execution_count": 45,
   "id": "30c5498d",
   "metadata": {},
   "outputs": [],
   "source": [
    "def func2(nums):\n",
    "    nums = sorted(nums)\n",
    "    lens = len(nums)\n",
    "    i = 1\n",
    "#     print(\"nums[0]\",nums[0])\n",
    "    for j in range(1,lens):\n",
    "        if nums[j] != nums[i-1]:\n",
    "            nums[i] = nums[j]\n",
    "#             print(\"nums[{}]:{}\".format(i,nums[i]))\n",
    "            i += 1\n",
    "    \n",
    "    return i"
   ]
  },
  {
   "cell_type": "code",
   "execution_count": 46,
   "id": "91201e25",
   "metadata": {},
   "outputs": [
    {
     "data": {
      "text/plain": [
       "7"
      ]
     },
     "execution_count": 46,
     "metadata": {},
     "output_type": "execute_result"
    }
   ],
   "source": [
    "nums = [-1,1,2,3,7,5,5,5,6]\n",
    "nums = sorted(nums)\n",
    "func2(nums)"
   ]
  }
 ],
 "metadata": {
  "kernelspec": {
   "display_name": "Python 3",
   "language": "python",
   "name": "python3"
  },
  "language_info": {
   "codemirror_mode": {
    "name": "ipython",
    "version": 3
   },
   "file_extension": ".py",
   "mimetype": "text/x-python",
   "name": "python",
   "nbconvert_exporter": "python",
   "pygments_lexer": "ipython3",
   "version": "3.6.11"
  }
 },
 "nbformat": 4,
 "nbformat_minor": 5
}
