{
 "cells": [
  {
   "cell_type": "markdown",
   "id": "2c510dea",
   "metadata": {},
   "source": [
    "## leetcode T42:Trapping Rain Water（接雨水）\n",
    "链接：https://leetcode-cn.com/problems/trapping-rain-water/"
   ]
  },
  {
   "cell_type": "markdown",
   "id": "870c674f",
   "metadata": {},
   "source": [
    "### 方法一：动态规划\n",
    "分析：\n",
    "对于下标i，下雨后水能到达的最大高度等于下标i 两边的最大高度的最小值，下标i 处能接的雨水量等于下标i 处的水能到达的最大高度减height[i]。\n",
    "\n",
    "朴素的做法是对于数组height 中的每个元素，分别向左和向右扫描并记录左边和右边的最大高度，然后计算每个下标位置能接的雨水量。假设数组 height 的长度为n，该做法需要对每个下标位置使用O(n) 的时间向两边扫描并得到最大高度，因此总时间复杂度是O(n^2)。\n",
    "\n",
    "上述做法的时间复杂度较高是因为需要对每个下标位置都向两边扫描。如果已经知道每个位置两边的最大高度，则可以在O(n) 的时间内得到能接的雨水总量。使用动态规划的方法，可以在O(n) 的时间内预处理得到每个位置两边的最大高度。\n",
    "\n",
    "创建两个长度为n 的数组leftMax 和rightMax。对于0≤i<n，leftMax[i] 表示下标i 及其左边的位置中，height 的最大高度，rightMax[i] 表示下标i 及其右边的位置中，height 的最大高度。\n",
    "\n",
    "显然，leftMax[0]=height[0]，rightMax[n−1]=height[n−1]。**两个数组的其余元素的计算如下**：\n",
    "\n",
    "当1≤i≤n−1 时，leftMax[i]=max(leftMax[i−1],height[i])；\n",
    "\n",
    "当0≤i≤n−2 时，rightMax[i]=max(rightMax[i+1],height[i])。\n",
    "\n",
    "因此可以**正向遍历**数组height 得到数组leftMax 的每个元素值，**反向遍历**数组height 得到数组rightMax 的每个元素值。\n",
    "\n",
    "**在得到数组leftMax 和rightMax 的每个元素值之后，对于0≤i<n，下标i 处能接的雨水量等于min(leftMax[i],rightMax[i])−height[i]**。**遍历每个下标位置即可得到能接的雨水总量**。\n",
    "\n",
    "动态规划做法可以由下图体现。\n",
    "\n",
    "图1：正向遍历数组得到leftMax的每个值\n",
    "https://assets.leetcode-cn.com/solution-static/42/1.png\n",
    "图2：反向遍历数组得到r\n",
    "\n",
    "复杂度分析：\n",
    "- 时间复杂度：O(n) 准确的说是3n。其中n是数组height 的长度。计算数组leftMax和rightMax的元素值各需要遍历数组height一次，计算能接的雨水总量还需要遍历一次。\n",
    "- 空间复杂度：O(n) 准确的说是2n。其中n 是数组height的长度。需要创建两个长度为n的数组leftMax和rightMax。"
   ]
  },
  {
   "cell_type": "code",
   "execution_count": 6,
   "id": "7c8153f5",
   "metadata": {},
   "outputs": [],
   "source": [
    "def func(height):\n",
    "    if not height:\n",
    "        return 0\n",
    "    n = len(height)\n",
    "    # 初始化leftMax\n",
    "    leftMax = [height[0]] + [0] * (n - 1)# leftMax[0]自然是height[0]\n",
    "    ### 计算leftMax\n",
    "    for i in range(1,n):\n",
    "        leftMax[i] = max(leftMax[i-1],height[i])\n",
    "    \n",
    "    # 初始化rightMax\n",
    "    rightMax = [0] * (n - 1) + [height[n - 1]]# rightMax[n - 1]自然是height[n - 1]\n",
    "    ### 计算rightMax\n",
    "    for i in range(n - 2,-1,-1):\n",
    "        rightMax[i] = max(rightMax[i + 1],height[i])\n",
    "    \n",
    "    ### 计算总的雨水量\n",
    "    result = sum(min(leftMax[i],rightMax[i]) - height[i] for i in range(n))\n",
    "    \n",
    "    return result"
   ]
  },
  {
   "cell_type": "code",
   "execution_count": 8,
   "id": "0e10a67c",
   "metadata": {},
   "outputs": [
    {
     "data": {
      "text/plain": [
       "9"
      ]
     },
     "execution_count": 8,
     "metadata": {},
     "output_type": "execute_result"
    }
   ],
   "source": [
    "# height = [0,1,0,2,1,0,1,3,2,1,2,1]\n",
    "height = [4,2,0,3,2,5]\n",
    "func(height)"
   ]
  }
 ],
 "metadata": {
  "kernelspec": {
   "display_name": "Python 3",
   "language": "python",
   "name": "python3"
  },
  "language_info": {
   "codemirror_mode": {
    "name": "ipython",
    "version": 3
   },
   "file_extension": ".py",
   "mimetype": "text/x-python",
   "name": "python",
   "nbconvert_exporter": "python",
   "pygments_lexer": "ipython3",
   "version": "3.6.11"
  }
 },
 "nbformat": 4,
 "nbformat_minor": 5
}
