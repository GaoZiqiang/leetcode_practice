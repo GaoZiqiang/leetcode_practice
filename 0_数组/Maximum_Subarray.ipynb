{
 "cells": [
  {
   "cell_type": "markdown",
   "id": "e017ac80",
   "metadata": {},
   "source": [
    "## leetcode T53:Maximum Subarray（最大子序和）\n",
    "链接：https://leetcode-cn.com/problems/maximum-subarray/"
   ]
  },
  {
   "cell_type": "markdown",
   "id": "f91f2fd4",
   "metadata": {},
   "source": [
    "### 方法一：暴力求解（提交未通过）\n",
    "**分析**：\n",
    "\n",
    "依次计算当前元素之后每加一个元素后的sum，得到以该元素为起始点的子序列的最大和。\n",
    "\n",
    "**复杂度分析**：\n",
    "- 时间复杂度：O(n^2)\n",
    "- 空间复杂度：o(n)：两个长度为n的辅助数组"
   ]
  },
  {
   "cell_type": "code",
   "execution_count": 1,
   "id": "eff1ab6a",
   "metadata": {},
   "outputs": [],
   "source": [
    "def func(nums):\n",
    "    n = len(nums)\n",
    "    \n",
    "    sums = [0] * n\n",
    "    max_sums = [0] * n\n",
    "    \n",
    "    for i in range(n):\n",
    "        sums[i] = nums[i]\n",
    "        max_sums[i] = nums[i]\n",
    "        for j in range(i + 1,n):\n",
    "            sums[i] = sums[i] + nums[j]# 每次都更新\n",
    "            if max_sums[i] < sums[i]:\n",
    "                max_sums[i] = sums[i]\n",
    "    \n",
    "    max_sum = max(max_sums)\n",
    "    \n",
    "    return max_sum"
   ]
  },
  {
   "cell_type": "markdown",
   "id": "925b2f54",
   "metadata": {},
   "source": [
    "### 方法二：动态规划\n",
    "**分析**：\n",
    "\n",
    "关键点：\n",
    "我们用f(i) 代表以第i 个数结尾的「连续子数组的最大和」，那么很显然我们要求的答案就是：\n",
    "\n",
    "0≤i≤n−1的max{f(i)}\n",
    "\n",
    "因此我们只需要求出每个位置的f(i)，然后返回f 数组中的最大值即可。那么我们如何求f(i) 呢？我们可以考虑nums[i] **单独成为一段**还是**加入f(i−1) 对应的那一段**，这取决于nums[i] 和f(i−1)+nums[i] 的大小，我们希望获得一个比较大的，于是可以写出这样的动态规划转移方程：\n",
    "\n",
    "**f(i)=max{f(i−1)+nums[i],nums[i]}**\n",
    "\n",
    "**复杂度分析**：\n",
    "- 时间复杂度：O(n)\n",
    "- 空间复杂度：O(1)"
   ]
  },
  {
   "cell_type": "code",
   "execution_count": 25,
   "id": "3f73c545",
   "metadata": {},
   "outputs": [],
   "source": [
    "def func2(nums):\n",
    "    n = len(nums)\n",
    "    pre_sum = 0\n",
    "    max_sum = nums[0]\n",
    "    for x in nums:\n",
    "        ### 不是很理解\n",
    "        pre_sum = max(pre_sum + x,x)\n",
    "        max_sum = max(max_sum,pre_sum)\n",
    "        ### 为什么这样不行？\n",
    "        # max_sum = max(pre_sum + x,x)\n",
    "        # pre_sum = max_sum\n",
    "        \n",
    "    return max_sum"
   ]
  },
  {
   "cell_type": "code",
   "execution_count": 26,
   "id": "c9408b33",
   "metadata": {},
   "outputs": [
    {
     "data": {
      "text/plain": [
       "6"
      ]
     },
     "execution_count": 26,
     "metadata": {},
     "output_type": "execute_result"
    }
   ],
   "source": [
    "nums = [-2,1,-3,4,-1,2,1,-5,4]\n",
    "func2(nums)"
   ]
  }
 ],
 "metadata": {
  "kernelspec": {
   "display_name": "Python 3",
   "language": "python",
   "name": "python3"
  },
  "language_info": {
   "codemirror_mode": {
    "name": "ipython",
    "version": 3
   },
   "file_extension": ".py",
   "mimetype": "text/x-python",
   "name": "python",
   "nbconvert_exporter": "python",
   "pygments_lexer": "ipython3",
   "version": "3.6.11"
  }
 },
 "nbformat": 4,
 "nbformat_minor": 5
}
