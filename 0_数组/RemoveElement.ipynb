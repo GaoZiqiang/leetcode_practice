{
 "cells": [
  {
   "cell_type": "markdown",
   "id": "cdd20d4a",
   "metadata": {},
   "source": [
    "## leetcode T27:Remove Element\n",
    "链接：https://leetcode-cn.com/problems/remove-element/"
   ]
  },
  {
   "cell_type": "markdown",
   "id": "1935fe74",
   "metadata": {},
   "source": [
    "### 方法一：双指针法\n",
    "#### 思路及算法\n",
    "\n",
    "由于题目要求删除数组中等于val的元素，因此输出数组的长度一定小于等于输入数组的长度，我们可以把输出的数组直接写在输入数组上。可以使用双指针：右指针right（巡逻指针）指向当前将要处理的元素，左指针left（工作指针）指向下一个将要赋值的位置。\n",
    "\n",
    "- 如果右指针指向的元素不等于val，它一定是输出数组的一个元素，我们就将右指针指向的元素复制到左指针位置，然后将左右指针同时右移；\n",
    "\n",
    "- 如果右指针指向的元素等于val，它不能在输出数组里，此时左指针不动，右指针右移一位。\n",
    "\n",
    "整个过程保持不变的性质是：区间[0,left) 中的元素都不等于val。当左右指针遍历完输入数组以后，left 的值就是输出数组的长度。\n",
    "\n",
    "**这样的算法在最坏情况下（输入数组中没有元素等于val），左右指针各遍历了数组一次。**\n",
    "\n",
    "\n",
    "#### 复杂度分析\n",
    "- 时间复杂度：O(n)，我们只需要遍历该序列至多两次。\n",
    "- 空间复杂度：O(1)，我们只需要常数的空间保存若干变量。\n"
   ]
  },
  {
   "cell_type": "code",
   "execution_count": 29,
   "id": "58b0c482",
   "metadata": {},
   "outputs": [],
   "source": [
    "def func(nums,val):\n",
    "    lens = len(nums)\n",
    "    j = 0\n",
    "    for i in range(lens):\n",
    "        if nums[i] != val:# 对非val值元素进行保存 注意：是对非val值元素进行操作，对val值元素选择跳过\n",
    "            nums[j] = nums[i]\n",
    "            j += 1\n",
    "    return j + 1"
   ]
  },
  {
   "cell_type": "markdown",
   "id": "7076e445",
   "metadata": {},
   "source": [
    "### 方法二：双指针法优化\n",
    "#### 思路 \n",
    "如果要移除的元素恰好在数组的开头，例如序列[1,2,3,4,5]，当val 为 11 时，我们需要把每一个元素都左移一位。注意到题目中说：「元素的顺序可以改变」。实际上我们可以直接将最后一个元素 55 移动到序列开头，取代元素 11，得到序列[5,2,3,4]，同样满足题目要求。这个优化在序列中val 元素的数量较少时非常有效。\n",
    "\n",
    "实现方面，我们依然使用双指针，两个指针初始时分别位于数组的首尾，向中间移动遍历该序列。\n",
    "\n",
    "#### 算法\n",
    "如果左指针left 指向的元素等于val，此时将右指针right 指向的元素复制到左指针left 的位置，然后右指针 right 左移一位。如果赋值过来的元素恰好也等于val，可以继续把右指针right 指向的元素的值赋值过来（左指针 left 指向的等于val 的元素的位置继续被覆盖），直到左指针指向的元素的值不等于val 为止。\n",
    "\n",
    "当左指针left 和右指针right 重合的时候，左右指针遍历完数组中所有的元素。\n",
    "\n",
    "这样的方法两个指针在最坏的情况下合起来只遍历了数组一次。**与方法一不同的是，方法二避免了需要保留的元素的重复赋值操作。**\n",
    "\n",
    "#### 复杂度分析\n",
    "- 时间复杂度：O(n)，其中 n 为序列的长度。我们只需要遍历该序列至多一次。\n",
    "- 空间复杂度：O(1)，我们只需要常数的空间保存若干变量。"
   ]
  },
  {
   "cell_type": "code",
   "execution_count": 27,
   "id": "b7c1e5a1",
   "metadata": {},
   "outputs": [],
   "source": [
    "def func2(nums,val):\n",
    "    lens = len(nums)\n",
    "    left = 0\n",
    "    right = lens - 1\n",
    "    while left != right:\n",
    "        if nums[left] == val:\n",
    "            nums[left] = nums[right]\n",
    "            right -= 1# 此时替换完成的left指针先不要右移，因为若nums[left]和nums[right]都是val值，则重新赋值的nums[left]还需要再次移除\n",
    "        else:\n",
    "            left += 1\n",
    "        \n",
    "    return left + 1# 返回去除val值元素后的数组长度"
   ]
  },
  {
   "cell_type": "code",
   "execution_count": 42,
   "id": "d2340631",
   "metadata": {},
   "outputs": [
    {
     "name": "stdout",
     "output_type": "stream",
     "text": [
      "6\n"
     ]
    }
   ],
   "source": [
    "nums = [1,2,33,1,4,6,5,1]\n",
    "val = 1\n",
    "# print(func2(nums,val))\n",
    "print(func(nums,val))"
   ]
  },
  {
   "cell_type": "code",
   "execution_count": null,
   "id": "b2cfb417",
   "metadata": {},
   "outputs": [],
   "source": []
  }
 ],
 "metadata": {
  "kernelspec": {
   "display_name": "Python 3",
   "language": "python",
   "name": "python3"
  },
  "language_info": {
   "codemirror_mode": {
    "name": "ipython",
    "version": 3
   },
   "file_extension": ".py",
   "mimetype": "text/x-python",
   "name": "python",
   "nbconvert_exporter": "python",
   "pygments_lexer": "ipython3",
   "version": "3.6.11"
  }
 },
 "nbformat": 4,
 "nbformat_minor": 5
}
