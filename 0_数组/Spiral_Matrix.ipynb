{
 "cells": [
  {
   "cell_type": "markdown",
   "id": "3785b284",
   "metadata": {},
   "source": [
    "## leetcode T54:Spiral Matrix（螺旋矩阵）\n",
    "链接：https://leetcode-cn.com/problems/spiral-matrix/"
   ]
  },
  {
   "cell_type": "markdown",
   "id": "b024072d",
   "metadata": {},
   "source": [
    "### 方法一：按层模拟（遍历）\n",
    "**分析**：\n",
    "\n",
    "问题的关键有两个，第一是遍历的顺序：从外层到内层遍历；第二个是**每个方向遍历终止的边界条件（重点）**：分为四个边界left、right、top、down。\n",
    "\n",
    "动画模拟参考：\n",
    "\n",
    "https://leetcode-cn.com/problems/spiral-matrix/solution/dong-hua-mo-ni-yi-xia-jiu-neng-gao-dong-i27qf/\n",
    "\n",
    "**复杂度分析**：\n",
    "- 时间复杂度：O(mn)：矩阵中每个元素都被访问一次，即为mn个元素；\n",
    "- 空间复杂度：O(1)：只需要一个辅助数组，即为常数个。"
   ]
  },
  {
   "cell_type": "code",
   "execution_count": 14,
   "id": "1c1a3903",
   "metadata": {},
   "outputs": [],
   "source": [
    "def func(matrix):\n",
    "    result = []\n",
    "    ### 定义边界条件\n",
    "    left = 0\n",
    "    right = len(matrix[0]) - 1# 列数\n",
    "    print('right:',right)\n",
    "    top = 0\n",
    "    down = len(matrix) - 1# 行数\n",
    "    print('down:',down)\n",
    "    \n",
    "    while(True):\n",
    "        for i in range(left,right + 1,1):\n",
    "            #print('i:',i)\n",
    "            result.append(matrix[top][i])\n",
    "        top += 1\n",
    "        \n",
    "        if top > down:\n",
    "            break\n",
    "        \n",
    "        for i in range(top,down + 1,1):\n",
    "            result.append(matrix[i][right])\n",
    "        right -= 1\n",
    "        \n",
    "        if left > right:\n",
    "            break\n",
    "            \n",
    "        for i in range(right,left - 1,-1):\n",
    "            result.append(matrix[down][i])\n",
    "        down -= 1\n",
    "        \n",
    "        if top > down:\n",
    "            break\n",
    "            \n",
    "        for i in range(down,top - 1,-1):\n",
    "            result.append(matrix[i][left])\n",
    "            \n",
    "        left += 1\n",
    "        if left > right:\n",
    "            break\n",
    "    \n",
    "    return result"
   ]
  },
  {
   "cell_type": "markdown",
   "id": "26433279",
   "metadata": {},
   "source": [
    "### 方法二：模拟\n",
    "**分析**：\n",
    "\n",
    "可以模拟螺旋矩阵的路径。初始位置是矩阵的左上角，初始方向是向右，当路径超出界限或者进入之前访问过的位置时，顺时针旋转，进入下一个方向。\n",
    "\n",
    "判断路径是否进入之前访问过的位置需要使用一个与输入矩阵大小相同的辅助矩阵visited，其中的每个元素表示该位置是否被访问过。当一个元素被访问时，将visited 中的对应位置的元素设为已访问。\n",
    "\n",
    "如何判断路径是否结束？由于矩阵中的每个元素都被访问一次，因此路径的长度即为矩阵中的元素数量，当路径的长度达到矩阵中的元素数量时即为完整路径，将该路径返回。\n",
    "\n",
    "\n",
    "**复杂度分析**：\n",
    "- 时间复杂度：O(mmn)\n",
    "- 空间复杂度：O(1)"
   ]
  },
  {
   "cell_type": "code",
   "execution_count": 138,
   "id": "e101504e",
   "metadata": {},
   "outputs": [],
   "source": [
    "def func2(matrix):\n",
    "    \n",
    "    \n",
    "    rows,columns = len(matrix),len(matrix[0])\n",
    "    \n",
    "    ### 辅助标记数组\n",
    "    # visited = [[False] * columns] * rows# 为什么这样不行？\n",
    "    visited = [[False] * columns for _ in range(rows)]\n",
    "    \n",
    "    # 矩阵中元素总数\n",
    "    total = rows * columns\n",
    "    result = [0] * total\n",
    "    \n",
    "    row, column = 0,0\n",
    "    ### 方向设置（难点）\n",
    "    directions = [[0,1],[1,0],[0,-1],[-1,0]]\n",
    "    directionIndex = 0\n",
    "    \n",
    "    for i in range(total):\n",
    "        # result.append(matrix[row][column])\n",
    "        result[i] = matrix[row][column]\n",
    "        visited[row][column] = True\n",
    "        nextRow, nextColumn = row + directions[directionIndex][0],column + directions[directionIndex][1]\n",
    "        # nextColumn = column + directions[directionIndex][1]\n",
    "        if not (0 <= nextRow < rows and 0 <= nextColumn < columns and not visited[nextRow][nextColumn]):\n",
    "            directionIndex = (directionIndex + 1) % 4\n",
    "            \n",
    "        row += directions[directionIndex][0]\n",
    "        column += directions[directionIndex][1]\n",
    "        \n",
    "    return result"
   ]
  },
  {
   "cell_type": "code",
   "execution_count": 142,
   "id": "e3c2ebce",
   "metadata": {},
   "outputs": [
    {
     "data": {
      "text/plain": [
       "[1, 2, 3, 4, 8, 12, 11, 10, 9, 5, 6, 7]"
      ]
     },
     "execution_count": 142,
     "metadata": {},
     "output_type": "execute_result"
    }
   ],
   "source": [
    "# matrix = [[1,2,3],[4,5,6],[7,8,9]]\n",
    "matrix = [[1,2,3,4],[5,6,7,8],[9,10,11,12]]\n",
    "func2(matrix)\n",
    "# len(matrix[0])"
   ]
  },
  {
   "cell_type": "code",
   "execution_count": 92,
   "id": "53b7d80b",
   "metadata": {},
   "outputs": [],
   "source": [
    "def func3(matrix):\n",
    "        \n",
    "    rows, columns = len(matrix), len(matrix[0])\n",
    "    visited = [[False] * columns for _ in range(rows)]\n",
    "    total = rows * columns\n",
    "    order = [0] * total\n",
    "\n",
    "    directions = [[0, 1], [1, 0], [0, -1], [-1, 0]]\n",
    "    row, column = 0, 0\n",
    "    directionIndex = 0\n",
    "    for i in range(total):\n",
    "        order[i] = matrix[row][column]\n",
    "        visited[row][column] = True\n",
    "        nextRow, nextColumn = row + directions[directionIndex][0], column + directions[directionIndex][1]\n",
    "        if not (0 <= nextRow < rows and 0 <= nextColumn < columns and not visited[nextRow][nextColumn]):\n",
    "            directionIndex = (directionIndex + 1) % 4\n",
    "        row += directions[directionIndex][0]\n",
    "        column += directions[directionIndex][1]\n",
    "    return order"
   ]
  },
  {
   "cell_type": "code",
   "execution_count": 86,
   "id": "88567ab3",
   "metadata": {},
   "outputs": [
    {
     "data": {
      "text/plain": [
       "[1, 2, 3, 6, 9, 8, 7, 4, 5]"
      ]
     },
     "execution_count": 86,
     "metadata": {},
     "output_type": "execute_result"
    }
   ],
   "source": [
    "matrix = [[1,2,3],[4,5,6],[7,8,9]]\n",
    "# matrix = [[1,2,3,4],[5,6,7,8],[9,10,11,12]]\n",
    "func3(matrix)"
   ]
  }
 ],
 "metadata": {
  "kernelspec": {
   "display_name": "Python 3",
   "language": "python",
   "name": "python3"
  },
  "language_info": {
   "codemirror_mode": {
    "name": "ipython",
    "version": 3
   },
   "file_extension": ".py",
   "mimetype": "text/x-python",
   "name": "python",
   "nbconvert_exporter": "python",
   "pygments_lexer": "ipython3",
   "version": "3.6.11"
  }
 },
 "nbformat": 4,
 "nbformat_minor": 5
}
