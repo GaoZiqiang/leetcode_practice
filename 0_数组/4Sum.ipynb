{
 "cells": [
  {
   "cell_type": "markdown",
   "id": "eb9d88fb",
   "metadata": {},
   "source": [
    "## leetcode T18:4 sum\n",
    "链接：https://leetcode-cn.com/problems/4sum/"
   ]
  },
  {
   "cell_type": "markdown",
   "id": "5928d7ff",
   "metadata": {},
   "source": [
    "### 方法：双指针+循环\n",
    "分析：\n",
    "\n",
    "如果之前做过 两数之和 ,\n",
    "三数之和 ,\n",
    "那么，这道题就是无脑多嵌套一层for循环了...\n",
    "\n",
    "双层for循环判断num1和num2，然后使用双指针执行while循环，直到left == right截止。"
   ]
  },
  {
   "cell_type": "code",
   "execution_count": null,
   "id": "ba23d000",
   "metadata": {},
   "outputs": [],
   "source": [
    "def func(nums,target):\n",
    "    n = len(nums)\n",
    "    res = []# 存放结果\n",
    "    if (not nums or n < 3):\n",
    "        return []\n",
    "    nums.sort()\n",
    "    for i in range(0,n-3):\n",
    "        for j in range(i+1,n-2):\n",
    "            left = j + 1\n",
    "            right = n - 1\n",
    "            while(left < right):\n",
    "                total = nums[i] + nums[j] + nums[left] + nums[right]\n",
    "                if total == target and (nums[i],nums[j],nums[left],nums[right]) not in res:\n",
    "                    res.append((nums[i],nums[j],nums[left],nums[right]))\n",
    "                    right -= 1\n",
    "                elif total < target:\n",
    "                    left += 1\n",
    "                else:\n",
    "                    right -= 1\n",
    "    return res"
   ]
  },
  {
   "cell_type": "code",
   "execution_count": 4,
   "id": "d455f7ca",
   "metadata": {},
   "outputs": [
    {
     "name": "stdout",
     "output_type": "stream",
     "text": [
      "[(-2, -1, 1, 2), (-2, 0, 0, 2), (-1, 0, 0, 1)]\n",
      "time using: 0.0002872943878173828 s\n"
     ]
    }
   ],
   "source": [
    "import time\n",
    "\n",
    "start_time = time.time()\n",
    "nums = [1,0,-1,0,-2,2]\n",
    "target = 0\n",
    "print(func(nums,target))\n",
    "print(\"time using:\",time.time() - start_time,\"s\")"
   ]
  }
 ],
 "metadata": {
  "kernelspec": {
   "display_name": "Python 3",
   "language": "python",
   "name": "python3"
  },
  "language_info": {
   "codemirror_mode": {
    "name": "ipython",
    "version": 3
   },
   "file_extension": ".py",
   "mimetype": "text/x-python",
   "name": "python",
   "nbconvert_exporter": "python",
   "pygments_lexer": "ipython3",
   "version": "3.6.11"
  }
 },
 "nbformat": 4,
 "nbformat_minor": 5
}
