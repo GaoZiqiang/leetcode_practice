{
 "cells": [
  {
   "cell_type": "markdown",
   "id": "7995c371",
   "metadata": {},
   "source": [
    "## leetcode T48:Rotate Image（旋转图像）\n",
    "链接：https://leetcode-cn.com/problems/rotate-image/"
   ]
  },
  {
   "cell_type": "markdown",
   "id": "bf892989",
   "metadata": {},
   "source": [
    "### 方法一：使用辅助数组\n",
    "**分析**：\n",
    "\n",
    "为了便于理解，我们先尝试使用辅助数组matrix_new来完成矩阵旋转。\n",
    "\n",
    "**问题的关键**是把握矩阵旋转90°后同一元素前后位置坐标的对应关系：\n",
    "\n",
    "**对于矩阵中第i 行的第j 个元素，在旋转后，它出现在倒数第i 列的第j 个位置**。\n",
    "\n",
    "即：\n",
    "\n",
    "matrix_new[col][n−row−1] = matrix[row][col]\n",
    "\n",
    "**复杂度分析**：\n",
    "- 时间复杂度：O(n^2)\n",
    "- 空间复杂度：O(n^2)"
   ]
  },
  {
   "cell_type": "code",
   "execution_count": 33,
   "id": "7fef7786",
   "metadata": {},
   "outputs": [],
   "source": [
    "def func(matrix):\n",
    "    n = len(matrix)\n",
    "    # 创建新矩阵/数组，存放旋转后的矩阵/数组\n",
    "    ### 不能使用值拷贝和引用拷贝 matrix_new = matrix 或者 matrix_new = matrix[:]\n",
    "    matrix_new = [[0] * n for _ in range(n)]\n",
    "    for i in range(n):\n",
    "        for j in range(n):\n",
    "            matrix_new[j][n - 1 - i] = matrix[i][j]\n",
    "    \n",
    "    # 将转换后的矩阵赋值给原矩阵matrix\n",
    "    matrix[:] = matrix_new\n",
    "    \n",
    "    return matrix"
   ]
  },
  {
   "cell_type": "markdown",
   "id": "9023f9ad",
   "metadata": {},
   "source": [
    "### 方法二：原地旋转\n",
    "**分析**：\n",
    "\n",
    "经过分析，我们知道，对于一个n*n的二维矩阵，完成一个元素的位置置换，需要涉及前前后后共四个元素的位置转换。\n",
    "使用一个临时变量temp 完成这四项的原地交换：\n",
    "\n",
    "\\begin{alignedat}{2} &\\textit{temp} &&= \\textit{matrix}[\\textit{row}][\\textit{col}]\\\\ &\\textit{matrix}[\\textit{row}][\\textit{col}] &&= \\textit{matrix}[n - \\textit{col} - 1][\\textit{row}]\\\\ &\\textit{matrix}[n - \\textit{col} - 1][\\textit{row}] &&= \\textit{matrix}[n - \\textit{row} - 1][n - \\textit{col} - 1]\\\\ &\\textit{matrix}[n - \\textit{row} - 1][n - \\textit{col} - 1] &&= \\textit{matrix}[\\textit{col}][n - \\textit{row} - 1]\\\\ &\\textit{matrix}[\\textit{col}][n - \\textit{row} - 1] &&= \\textit{temp} \\end{alignedat}\n",
    "\n",
    "**复杂度分析**：\n",
    "- 时间复杂度：O(n^2)\n",
    "- 空间复杂度：O(1) 不再需要额外的辅助空间。\n"
   ]
  },
  {
   "cell_type": "code",
   "execution_count": 39,
   "id": "5a0f2739",
   "metadata": {},
   "outputs": [],
   "source": [
    "def func2(matrix):\n",
    "    n = len(matrix)\n",
    "    for i in range(n // 2):\n",
    "        for j in range((n + 1) // 2):\n",
    "            temp = matrix[i][j]\n",
    "            ### 四次转换\n",
    "            matrix[i][j] = matrix[n - 1 - j][i]\n",
    "            matrix[n - 1 - j][i] = matrix[n - 1 - i][n - 1 - j]\n",
    "            matrix[n - 1 - i][n - 1 - j] = matrix[j][n - 1 - i]\n",
    "            matrix[j][n - 1 - i] = temp\n",
    "    return matrix"
   ]
  }
 ],
 "metadata": {
  "kernelspec": {
   "display_name": "Python 3",
   "language": "python",
   "name": "python3"
  },
  "language_info": {
   "codemirror_mode": {
    "name": "ipython",
    "version": 3
   },
   "file_extension": ".py",
   "mimetype": "text/x-python",
   "name": "python",
   "nbconvert_exporter": "python",
   "pygments_lexer": "ipython3",
   "version": "3.6.11"
  }
 },
 "nbformat": 4,
 "nbformat_minor": 5
}
