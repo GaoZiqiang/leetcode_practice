{
 "cells": [
  {
   "cell_type": "markdown",
   "id": "3d612c18",
   "metadata": {},
   "source": [
    "## leetcode T11:Three sum\n",
    "链接：https://leetcode-cn.com/problems/3sum/"
   ]
  },
  {
   "cell_type": "markdown",
   "id": "a7d8f2a0",
   "metadata": {},
   "source": [
    "### 方法一：暴力解法\n",
    "使用三层for循环\n",
    "\n",
    "复杂度分析：\n",
    "- 时间复杂度 O(n^3)\n",
    "- 空间复杂度 O(1)"
   ]
  },
  {
   "cell_type": "code",
   "execution_count": 1,
   "id": "8d8e3939",
   "metadata": {},
   "outputs": [],
   "source": [
    "def func(nums):\n",
    "    nums = sorted(nums)\n",
    "    sums = []\n",
    "    for x in nums:\n",
    "        for y in nums[nums.index(x):]:\n",
    "            for z in nums[nums.index(y):]:\n",
    "                if (x + y + z == 0):\n",
    "                    sums.append((x,y,z))\n",
    "    \n",
    "    # 去重\n",
    "    new_sums = []\n",
    "    for i in range(len(sums)):\n",
    "        if sums[i] not in new_sums:\n",
    "            new_sums.append(sums[i])\n",
    "    \n",
    "    return new_sums"
   ]
  },
  {
   "cell_type": "code",
   "execution_count": 2,
   "id": "b283a516",
   "metadata": {},
   "outputs": [
    {
     "name": "stdout",
     "output_type": "stream",
     "text": [
      "[(-4, 2, 2), (-1, -1, 2), (-1, 0, 1), (0, 0, 0)]\n",
      "time using: 0.0002532005310058594 s\n"
     ]
    }
   ],
   "source": [
    "import time\n",
    "\n",
    "start_time = time.time()\n",
    "nums = [-1,0,1,2,-1,-4]\n",
    "print(func(nums))\n",
    "print(\"time using:\",time.time() - start_time,\"s\")# Q:结果中仍然有重复"
   ]
  },
  {
   "cell_type": "markdown",
   "id": "f6a927de",
   "metadata": {},
   "source": [
    "### 方法二：排序+双指针\n",
    "关键点：\n",
    "- 排序\n",
    "对原数组进行从小到大排序\n",
    "- 双指针夹逼\n",
    "\n",
    "基本思路是：将3sum转换成2sum问题\n",
    "\n",
    "复杂度分析：\n",
    "- 时间复杂度\n",
    "\n",
    "排序 O(nlogn)\n",
    "\n",
    "搜索解 O(n^2)\n",
    "- 空间复杂度 O(1)"
   ]
  },
  {
   "cell_type": "code",
   "execution_count": 15,
   "id": "928a3c33",
   "metadata": {},
   "outputs": [],
   "source": [
    "def func2(nums):\n",
    "    n = len(nums)\n",
    "    res = []# 存放结果\n",
    "    if (not nums or n < 3):\n",
    "        return []\n",
    "    nums.sort()\n",
    "    for i in range(n):\n",
    "        if (nums[i] > 0):# 因为数组是递增的数组，如果nums[i]>0，则另外另个数必然大于0，肯定找不到三数之和为0\n",
    "            return res\n",
    "        if (i > 0 and nums[i] == nums[i-1]):# 当前元素和上一个元素相同，则跳过当前元素，进入下一轮\n",
    "            continue# 结束本次循环，进入下次循环\n",
    "        L = i + 1\n",
    "        R = n - 1\n",
    "        # 用2sum的思想求解剩下两个y和z\n",
    "        while(L < R):\n",
    "            if (nums[i] + nums[L] + nums[R] == 0) and (nums[i],nums[L],nums[R]) not in res:# 去重\n",
    "                res.append((nums[i],nums[L],nums[R]))\n",
    "                while (L < R and nums[L] == nums[L+1]):\n",
    "                             L = L + 1# 跳过重复元素\n",
    "                while (L < R and nums[R] == nums[R-1]):\n",
    "                             R = R - 1\n",
    "                # L = L + 1# 左右都指针要移动\n",
    "                R = R - 1\n",
    "            elif (nums[i] + nums[L] + nums[R] > 0):\n",
    "                             R = R - 1\n",
    "            else:\n",
    "                             L = L + 1\n",
    "    return res"
   ]
  },
  {
   "cell_type": "code",
   "execution_count": 16,
   "id": "518ef6e3",
   "metadata": {},
   "outputs": [
    {
     "name": "stdout",
     "output_type": "stream",
     "text": [
      "[(-1, -1, 2), (-1, 0, 1)]\n",
      "time using: 0.00012183189392089844 s\n"
     ]
    }
   ],
   "source": [
    "import time\n",
    "\n",
    "start_time = time.time()\n",
    "nums = [-1,0,1,2,-1,-4]\n",
    "print(func2(nums))\n",
    "print(\"time using:\",time.time() - start_time,\"s\")"
   ]
  }
 ],
 "metadata": {
  "kernelspec": {
   "display_name": "Python 3",
   "language": "python",
   "name": "python3"
  },
  "language_info": {
   "codemirror_mode": {
    "name": "ipython",
    "version": 3
   },
   "file_extension": ".py",
   "mimetype": "text/x-python",
   "name": "python",
   "nbconvert_exporter": "python",
   "pygments_lexer": "ipython3",
   "version": "3.6.11"
  }
 },
 "nbformat": 4,
 "nbformat_minor": 5
}
