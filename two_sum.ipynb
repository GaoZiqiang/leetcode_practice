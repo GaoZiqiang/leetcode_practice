{
 "cells": [
  {
   "cell_type": "markdown",
   "id": "e2f90c3b",
   "metadata": {},
   "source": [
    "## leetcode T1:求两数之和等于target"
   ]
  },
  {
   "cell_type": "markdown",
   "id": "e5b3b67e",
   "metadata": {},
   "source": [
    "### 方法一：\n",
    "解题关键主要是想找到 num2 = target - num1，是否也在 list 中，那么就需要运用以下两个方法：\n",
    "\n",
    "- num2 in nums，返回 True 说明有戏\n",
    "- nums.index(num2)，查找 num2 的索引"
   ]
  },
  {
   "cell_type": "code",
   "execution_count": null,
   "id": "77e1599b",
   "metadata": {},
   "outputs": [],
   "source": [
    "def twoSum(nums,target):\n",
    "    lens = len(nums)\n",
    "    j = -1\n",
    "    for i in range(lens):\n",
    "        if (target - nums[i]) in nums:\n",
    "            if (target - nums[i] == nums[i]) and (nums.count(target - nums[i]) == 1):# 如果num2==num1 && 在nums中只出现了一次，说明找到的是num1本身\n",
    "                continue# 跳出本次循环，继续下一次循环\n",
    "            else:\n",
    "                j = nums.index(target - nums[i])# index(x,i+1)是从x之后的序列中找num2 这样会避免重复查找，例如后找前，提高检索效率\n",
    "                break# 找到了就退出所有循环 不然会出现后找前，前已经不在list中的情况，原因：index(x,i+1)是从x之后的序列中查找\n",
    "    \n",
    "    if j > 0:\n",
    "        return [i,j]# 返回nums[i]和nums[j]的索引值\n",
    "    else:\n",
    "        return []"
   ]
  },
  {
   "cell_type": "markdown",
   "id": "ba1f8f50",
   "metadata": {},
   "source": [
    "### 方法二\n",
    "解题思路是在方法一的基础上，优化解法。\n",
    "想着，num2 的查找并不需要每次从 nums 查找一遍，只需要从 num1 位置之前或之后查找即可。\n",
    "但为了方便 index 这里选择从 num1 位置之前查找：\n",
    "\n",
    "该种方法的缺点是，若list为有序列表且大小排列顺序跟查找顺序相反，则查找时间会很长\n",
    "例如：list为增序列表，则temp = nums[:i]耗时较多；反之list为降序列表，则temp = nums[:i]则省时\n"
   ]
  },
  {
   "cell_type": "code",
   "execution_count": null,
   "id": "a1f237bd",
   "metadata": {},
   "outputs": [],
   "source": [
    "def twoSum2(nums,target):\n",
    "    lens = len(nums)\n",
    "    j = -1\n",
    "    for i in range(1,lens):# 因为是从list头到i找，因此range(1,lens)的范围初始值为1；反之，则为range(0,lens-1)\n",
    "        temp = nums[:i]# 从list头到i\n",
    "        if (target - nums[i]) in temp:\n",
    "            j = temp.index(target - nums[i])\n",
    "            break\n",
    "            \n",
    "    if j >= 0:\n",
    "        return [j,i]"
   ]
  },
  {
   "cell_type": "markdown",
   "id": "af3c3b87",
   "metadata": {},
   "source": [
    "### 方法三\n",
    "通过哈希来求解，这里通过字典来模拟哈希查询的过程。\n",
    "\n",
    "个人理解这种办法相较于方法一其实就是字典记录了 num1 和 num2 的值和位置，而省了再查找 num2 索引的步骤。"
   ]
  },
  {
   "cell_type": "code",
   "execution_count": null,
   "id": "dcc8f7e9",
   "metadata": {},
   "outputs": [],
   "source": [
    "def twoSum3(nums,target):\n",
    "    hashmap = {}\n",
    "    # 先存入hashmap\n",
    "    for ind,num in enumerate(nums):\n",
    "        hashmap[num] = ind# 将key和value值存到hashmap中\n",
    "    # 然后查找\n",
    "    for i,num in enumerate(nums):\n",
    "        j = hashmap.get(target - num)\n",
    "        if j is not None and i != j:\n",
    "            return [i,j]"
   ]
  },
  {
   "cell_type": "markdown",
   "id": "92ac3da0",
   "metadata": {},
   "source": [
    "### 方法四：利用hashmap，边存边查（二者也有一个小顺序：以防止list中有重复值或target-num=num的情况发生）\n",
    "类似方法二，不需要 mun2 不需要在整个 dict 中去查找。\n",
    "可以在 num1 之前的 dict 中查找，因此就只需要一次循环可解决。\n",
    "\n",
    "该方法的缺点类似于方法二，收到list列表顺序的影响"
   ]
  },
  {
   "cell_type": "code",
   "execution_count": null,
   "id": "1954c7a5",
   "metadata": {},
   "outputs": [],
   "source": [
    "def twoSum4(nums,target):\n",
    "    hashmap = {}\n",
    "    for i,num in enumerate(nums):\n",
    "        if hashmap.get(target - num) is not None:\n",
    "            return [i,hashmap.get(target - num)]# 这句不能放在if语句之前，解决list中有重复值或target-num=num的情况\n",
    "        hashmap[num] = i"
   ]
  },
  {
   "cell_type": "code",
   "execution_count": 50,
   "id": "1022cf81",
   "metadata": {},
   "outputs": [
    {
     "name": "stdout",
     "output_type": "stream",
     "text": [
      "twoSum() time consuming: 3.24249267578125e-05 s\n",
      "twoSum2() time consuming: 6.818771362304688e-05 s\n",
      "twoSum2() time consuming: 4.649162292480469e-05 s\n",
      "twoSum2() time consuming: 4.76837158203125e-05 s\n"
     ]
    }
   ],
   "source": [
    "import time\n",
    "\n",
    "nums = [0,1,2,3,4,5,6,7,8,9]\n",
    "target = 10\n",
    "\n",
    "start_time1 = time.time()\n",
    "twoSum(nums,target)\n",
    "print(\"twoSum() time consuming:\",time.time() - start_time1,\"s\")\n",
    "# print(twoSum(nums,target))\n",
    "\n",
    "start_time2 = time.time()\n",
    "twoSum2(nums,target)\n",
    "print(\"twoSum2() time consuming:\",time.time() - start_time2,\"s\")\n",
    "\n",
    "start_time3 = time.time()\n",
    "twoSum3(nums,target)\n",
    "print(\"twoSum2() time consuming:\",time.time() - start_time3,\"s\")\n",
    "\n",
    "start_time4 = time.time()\n",
    "twoSum4(nums,target)\n",
    "print(\"twoSum2() time consuming:\",time.time() - start_time4,\"s\")"
   ]
  },
  {
   "cell_type": "markdown",
   "id": "84dee0ba",
   "metadata": {},
   "source": []
  }
 ],
 "metadata": {
  "kernelspec": {
   "display_name": "Python 3",
   "language": "python",
   "name": "python3"
  },
  "language_info": {
   "codemirror_mode": {
    "name": "ipython",
    "version": 3
   },
   "file_extension": ".py",
   "mimetype": "text/x-python",
   "name": "python",
   "nbconvert_exporter": "python",
   "pygments_lexer": "ipython3",
   "version": "3.6.11"
  }
 },
 "nbformat": 4,
 "nbformat_minor": 5
}
