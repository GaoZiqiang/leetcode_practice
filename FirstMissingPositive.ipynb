{
 "cells": [
  {
   "cell_type": "markdown",
   "id": "186b0e81",
   "metadata": {},
   "source": [
    "## leetcode T41:First Missing Positive（缺失的第一个正数）\n",
    "链接：https://leetcode-cn.com/problems/first-missing-positive/"
   ]
  },
  {
   "cell_type": "markdown",
   "id": "ffbf1dad",
   "metadata": {},
   "source": [
    "### 方法一：双遍历法\n",
    "**算法思想**：\n",
    "\n",
    "我们可以从 11 开始依次枚举正整数，并遍历数组，判断其是否在数组中\n",
    "\n",
    "**复杂度分析**：\n",
    "- 时间复杂度 O(n^2)\n",
    "- 空间复杂度 O(n) 即空间大小随数组大小而变"
   ]
  },
  {
   "cell_type": "code",
   "execution_count": 31,
   "id": "ec347ae0",
   "metadata": {
    "scrolled": true
   },
   "outputs": [],
   "source": [
    "def func(nums):\n",
    "    length = len(nums)\n",
    "    result = 0\n",
    "    nums = sorted(nums)# 排序 无序变有序 排序的时间复杂度为O(n^2)\n",
    "    print(nums)\n",
    "    # 两层遍历 时间复杂度O(n^2)\n",
    "    for i in range((length+1)):\n",
    "        if i > 0:\n",
    "            if i not in nums:# 这也是一次遍历 python的遍历方便之处\n",
    "                result = i\n",
    "                return result"
   ]
  },
  {
   "cell_type": "markdown",
   "id": "c6b13093",
   "metadata": {},
   "source": [
    "### 方法二：置换法\n",
    "**算法思想**：\n",
    "\n",
    "我们还可以使用置换的方法，将给定的数组「恢复」成下面的形式：\n",
    "\n",
    "如果数组中包含x∈[1,N]，那么恢复后，数组的第x−1 个元素为x。\n",
    "\n",
    "在恢复后，数组应当有 [1, 2, ..., N] 的形式，但其中有若干个位置上的数是错误的，每一个错误的位置就代表了一个缺失的正数。以题目中的示例二 [3, 4, -1, 1] 为例，恢复后的数组应当为 [1, -1, 3, 4]，我们就可以知道缺失的数为2。\n",
    "\n",
    "那么我们如何将数组进行恢复呢？我们可以对数组进行一次遍历，对于遍历到的数x=nums[i]，如果x∈[1,N]，我们就知道x 应当出现在数组中的x−1 的位置，因此交换nums[i] 和nums[x−1]，这样 xx 就出现在了正确的位置。在完成交换后，新的nums[i] 可能还在[1,N] 的范围内，我们需要继续进行交换操作，直到x∈ \n",
    "/\n",
    "​\t\n",
    " [1,N]。\n",
    "\n",
    "注意到上面的方法可能会陷入死循环。如果nums[i] 恰好与nums[x−1] 相等，那么就会无限交换下去。此时我们有nums[i]=x=nums[x−1]，说明x 已经出现在了正确的位置。因此我们可以跳出循环，开始遍历下一个数。\n",
    "\n",
    "由于每次的交换操作都会使得某一个数交换到正确的位置，因此交换的次数最多为N，整个方法的时间复杂度为O(N)。\n",
    "\n",
    "**复杂度分析**：\n",
    "- 时间复杂度 O(n)\n",
    "- 空间复杂度 O(1)"
   ]
  },
  {
   "cell_type": "code",
   "execution_count": 33,
   "id": "b181611e",
   "metadata": {},
   "outputs": [],
   "source": [
    "def func2(nums):\n",
    "    n = len(nums)\n",
    "    \n",
    "    # 如果数组中没有1，则返回1即可\n",
    "    if 1 not in nums:\n",
    "        return 1\n",
    "    \n",
    "    # 将小于0和大于n的数置换/赋值为1\n",
    "    for i in range(n):\n",
    "        if nums[i] <= 0 or nums[i] > n:\n",
    "            nums[i] = 1\n",
    "            \n",
    "    # 进行取负置换\n",
    "    for i in range(n):\n",
    "        a = abs(nums[i]) - 1# 索引\n",
    "        nums[a] = -abs(nums[a])\n",
    "        \n",
    "    # 找到第一个大于0的数，即为缺失的第一个正数\n",
    "    for i in range(n):\n",
    "        if nums[i] > 0:\n",
    "            return i + 1\n",
    "        \n",
    "    return n + 1"
   ]
  },
  {
   "cell_type": "code",
   "execution_count": null,
   "id": "3db08246",
   "metadata": {},
   "outputs": [],
   "source": []
  },
  {
   "cell_type": "code",
   "execution_count": null,
   "id": "f0b6263d",
   "metadata": {},
   "outputs": [],
   "source": []
  }
 ],
 "metadata": {
  "kernelspec": {
   "display_name": "Python 3",
   "language": "python",
   "name": "python3"
  },
  "language_info": {
   "codemirror_mode": {
    "name": "ipython",
    "version": 3
   },
   "file_extension": ".py",
   "mimetype": "text/x-python",
   "name": "python",
   "nbconvert_exporter": "python",
   "pygments_lexer": "ipython3",
   "version": "3.6.11"
  }
 },
 "nbformat": 4,
 "nbformat_minor": 5
}
